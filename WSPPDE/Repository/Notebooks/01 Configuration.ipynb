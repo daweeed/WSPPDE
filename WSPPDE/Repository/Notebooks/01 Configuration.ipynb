{
 "metadata": {
  "name": "",
  "signature": "sha256:4b9889e91cdd4a96edee9f3c00f9145a24ae0b17c8004bd62f685be8625df6e5"
 },
 "nbformat": 3,
 "nbformat_minor": 0,
 "worksheets": [
  {
   "cells": [
    {
     "cell_type": "markdown",
     "metadata": {},
     "source": [
      "# IPython configuration\n",
      "The WSPPDE IPython basic profile was created via `ipython profile create default`. The only applied modification was related to the default storage location of the IPython notebook files (*.ipynb), which was set to `WSPPDE\\Repository\\Notebooks`. The storage location was modified by adding the following code to `WSPPDE\\Settings\\.ipython\\profile_default\\ipython_notebook_config.py`.\n",
      "\n",
      "    # The directory to use for notebooks and kernels.\n",
      "    # c.NotebookApp.notebook_dir = u''\n",
      "    import os\n",
      "    c.NotebookApp.notebook_dir = u'%s' % os.environ[\"WSPPDE_NOTEBOOKS\"]\n",
      "\n",
      "You can customize IPython and the IPython notebook to your needs by adapting the configuration files stored in `WSPPDE\\Settings\\.ipython\\profile_default`.\n",
      "\n",
      "# IPython configuration tips\n",
      "\n",
      "## Make Firefox Portable your default IPython notebook browser\n",
      "To make a Firefox Portable your default browser, add the following code to `ipython_notebook_config.py`:\n",
      "\n",
      "    # c.NotebookApp.browser = u''\n",
      "    import webbrowser\n",
      "    webbrowser.register('firefox', None, webbrowser.GenericBrowser('D:\\\\FirefoxPortable\\\\FirefoxPortable.exe'))\n",
      "    c.NotebookApp.browser = 'firefox'"
     ]
    }
   ],
   "metadata": {}
  }
 ]
}